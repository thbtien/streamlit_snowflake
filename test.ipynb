{
 "cells": [
  {
   "cell_type": "code",
   "execution_count": null,
   "metadata": {},
   "outputs": [],
   "source": [
    "import pyrfc\n",
    "\n",
    "conn = pyrfc.Connection()\n",
    "conn.call()"
   ]
  }
 ],
 "metadata": {
  "kernelspec": {
   "display_name": "Python 3.8.10 ('venv': venv)",
   "language": "python",
   "name": "python3"
  },
  "language_info": {
   "name": "python",
   "version": "3.8.10"
  },
  "orig_nbformat": 4,
  "vscode": {
   "interpreter": {
    "hash": "34cbbefd341409763ef83b1c5940ca9f070890197af2f23a66cc007edc881a9e"
   }
  }
 },
 "nbformat": 4,
 "nbformat_minor": 2
}
